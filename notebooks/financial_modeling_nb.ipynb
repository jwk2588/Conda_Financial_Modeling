{
 "cells": [
  {
   "cell_type": "code",
   "execution_count": 2,
   "metadata": {},
   "outputs": [
    {
     "name": "stderr",
     "output_type": "stream",
     "text": [
      "'which' is not recognized as an internal or external command,\n",
      "operable program or batch file.\n"
     ]
    }
   ],
   "source": [
    "!which python"
   ]
  },
  {
   "cell_type": "code",
   "execution_count": 4,
   "metadata": {},
   "outputs": [
    {
     "name": "stdout",
     "output_type": "stream",
     "text": [
      "fuzzywuzzy is installed and working.\n",
      "Levenshtein is installed and working.\n"
     ]
    }
   ],
   "source": [
    "import fuzzywuzzy\n",
    "print(\"fuzzywuzzy is installed and working.\")\n",
    "import Levenshtein\n",
    "print(\"Levenshtein is installed and working.\")"
   ]
  },
  {
   "cell_type": "code",
   "execution_count": 5,
   "metadata": {},
   "outputs": [
    {
     "name": "stdout",
     "output_type": "stream",
     "text": [
      "c:\\Users\\jklei\\Anaconda3\\envs\\financial_modeling\\python.exe\n",
      "C:\\Users\\jklei\\Anaconda3\\python.exe\n"
     ]
    }
   ],
   "source": [
    "!where python\n"
   ]
  },
  {
   "cell_type": "code",
   "execution_count": 7,
   "metadata": {},
   "outputs": [
    {
     "ename": "ImportError",
     "evalue": "cannot import name 'tag_line_item_indices' from 'scripts.utilities.data_transformation_utils' (C:\\Users\\jklei\\OneDrive - Convergix Automation\\Documents\\FinancialModeling_Project\\scripts\\utilities\\data_transformation_utils.py)",
     "output_type": "error",
     "traceback": [
      "\u001b[1;31m---------------------------------------------------------------------------\u001b[0m",
      "\u001b[1;31mImportError\u001b[0m                               Traceback (most recent call last)",
      "Cell \u001b[1;32mIn[7], line 3\u001b[0m\n\u001b[0;32m      1\u001b[0m \u001b[38;5;28;01mimport\u001b[39;00m \u001b[38;5;21;01mos\u001b[39;00m\n\u001b[0;32m      2\u001b[0m \u001b[38;5;28;01mimport\u001b[39;00m \u001b[38;5;21;01mpandas\u001b[39;00m \u001b[38;5;28;01mas\u001b[39;00m \u001b[38;5;21;01mpd\u001b[39;00m\n\u001b[1;32m----> 3\u001b[0m \u001b[38;5;28;01mfrom\u001b[39;00m \u001b[38;5;21;01mscripts\u001b[39;00m\u001b[38;5;21;01m.\u001b[39;00m\u001b[38;5;21;01mutilities\u001b[39;00m\u001b[38;5;21;01m.\u001b[39;00m\u001b[38;5;21;01mdata_transformation_utils\u001b[39;00m \u001b[38;5;28;01mimport\u001b[39;00m (\n\u001b[0;32m      4\u001b[0m     configure_logging,\n\u001b[0;32m      5\u001b[0m     get_data_paths,\n\u001b[0;32m      6\u001b[0m     tag_line_item_indices,\n\u001b[0;32m      7\u001b[0m     line_item_dict,\n\u001b[0;32m      8\u001b[0m )\n\u001b[0;32m     10\u001b[0m logger \u001b[38;5;241m=\u001b[39m configure_logging()\n\u001b[0;32m     12\u001b[0m \u001b[38;5;28;01mclass\u001b[39;00m \u001b[38;5;21;01mFinancialStatementTransformer\u001b[39;00m:\n",
      "\u001b[1;31mImportError\u001b[0m: cannot import name 'tag_line_item_indices' from 'scripts.utilities.data_transformation_utils' (C:\\Users\\jklei\\OneDrive - Convergix Automation\\Documents\\FinancialModeling_Project\\scripts\\utilities\\data_transformation_utils.py)"
     ]
    }
   ],
   "source": [
    "import os\n",
    "import pandas as pd\n",
    "from scripts.utilities.data_transformation_utils import (\n",
    "    configure_logging,\n",
    "    get_data_paths,\n",
    "    tag_line_item_indices,\n",
    "    line_item_dict,\n",
    ")\n",
    "\n",
    "logger = configure_logging()\n",
    "\n",
    "class FinancialStatementTransformer:\n",
    "    \"\"\"Base class for transforming financial statements with validation and testing entry points.\"\"\"\n",
    "\n",
    "    def __init__(self, statement_type: str):\n",
    "        self.statement_type = statement_type  # e.g., 'balance_sheet', 'income_statement', or 'cash_flow'\n",
    "        self.raw_file, self.processed_file, self.tagged_file = self.get_file_paths()\n",
    "        self.df = None  # Placeholder for the loaded DataFrame\n",
    "\n",
    "    def get_file_paths(self):\n",
    "        \"\"\"Constructs file paths for raw, processed, and tagged files.\"\"\"\n",
    "        raw_dir, processed_dir = get_data_paths()\n",
    "        raw_file = os.path.join(raw_dir, f'{self.statement_type}.csv')\n",
    "        processed_file = os.path.join(processed_dir, f'processed_{self.statement_type}.csv')\n",
    "        tagged_file = os.path.join(processed_dir, f'tagged_{self.statement_type}.csv')\n",
    "        return raw_file, processed_file, tagged_file\n",
    "\n",
    "    def load_data(self):\n",
    "        \"\"\"Loads raw financial statement data.\"\"\"\n",
    "        if not os.path.exists(self.raw_file):\n",
    "            raise FileNotFoundError(f\"Raw file not found: {self.raw_file}\")\n",
    "        self.df = pd.read_csv(self.raw_file)\n",
    "        logger.info(f\"Loaded {self.statement_type} data:\\n{self.df.head()}\")\n",
    "\n",
    "    def validate_data(self):\n",
    "        \"\"\"\n",
    "        Validates the raw data to ensure it can proceed with transformations.\n",
    "        Example checks: non-empty DataFrame, numeric values, and appropriate structure.\n",
    "        \"\"\"\n",
    "        if self.df is None or self.df.empty:\n",
    "            raise ValueError(f\"The raw data for {self.statement_type} is empty. Please check the source file.\")\n",
    "\n",
    "        # Example validation: Ensure the first column exists\n",
    "        first_column_name = self.df.columns[0]\n",
    "        if first_column_name == '':\n",
    "            raise ValueError(f\"The first column in the {self.statement_type} data is unnamed or blank.\")\n",
    "\n",
    "        # Example validation: Ensure at least one numeric column exists\n",
    "        numeric_cols = self.df.select_dtypes(include=['number']).columns\n",
    "        if numeric_cols.empty:\n",
    "            raise ValueError(f\"No numeric columns found in {self.statement_type} data for calculations.\")\n",
    "\n",
    "        logger.info(f\"{self.statement_type} data passed validation checks.\")\n",
    "\n",
    "    def transform_data(self):\n",
    "        \"\"\"Applies necessary transformations to the financial statement.\"\"\"\n",
    "        self.validate_data()  # Perform data validation before transformations\n",
    "\n",
    "        # Step 1: Identify and use the first column as the index\n",
    "        first_column_name = self.df.columns[0]\n",
    "\n",
    "        # Step 2: Sort data by the first column (ascending order)\n",
    "        self.df = self.df.sort_values(by=first_column_name, ascending=True).reset_index(drop=True)\n",
    "\n",
    "        # Step 3: Transpose the DataFrame\n",
    "        df_transposed = self.df.set_index(first_column_name).T\n",
    "\n",
    "        # Step 4: Add a helper column for sorting\n",
    "        df_transposed['Sort'] = range(len(df_transposed), 0, -1)\n",
    "\n",
    "        # Step 5: Validation checkpoint and diagnostic logging\n",
    "        logger.info(f\"Step 5 - Transposed data with 'Sort' column:\\n{df_transposed.head()}\")\n",
    "        # Allow manual inspection here if testing interactively\n",
    "\n",
    "        # Step 6: Sort by the helper column and drop it\n",
    "        df_sorted = df_transposed.sort_values(by='Sort', ascending=True).drop(columns=['Sort'])\n",
    "\n",
    "        # Step 7: Reset index and set new index as 'Category'\n",
    "        df_sorted.index.name = 'Category'\n",
    "\n",
    "        # Update the instance DataFrame\n",
    "        self.df = df_sorted.reset_index()\n",
    "        logger.info(f\"Transformed {self.statement_type} data:\\n{self.df.head()}\")\n",
    "\n",
    "    def tag_data(self):\n",
    "        \"\"\"Tags line items using the predefined dictionary.\"\"\"\n",
    "        if 'Category' not in self.df.columns:\n",
    "            logger.warning(f\"Column 'Category' not found in {self.statement_type} data.\")\n",
    "            return\n",
    "        self.df = tag_line_item_indices(self.df, line_item_dict)\n",
    "        logger.info(f\"Tagged {self.statement_type} data:\\n{self.df.head()}\")\n",
    "\n",
    "    def save_data(self, filename: str, data: pd.DataFrame):\n",
    "        \"\"\"Saves DataFrame to a specified file.\"\"\"\n",
    "        _, processed_dir = get_data_paths()\n",
    "        output_path = os.path.join(processed_dir, filename)\n",
    "        data.to_csv(output_path, index=False)\n",
    "        logger.info(f\"Saved data to {output_path}\")\n",
    "\n",
    "    def transform(self):\n",
    "        \"\"\"\n",
    "        Executes the full transformation pipeline.\n",
    "        Can be stopped or rerun from specific steps during testing.\n",
    "        \"\"\"\n",
    "        try:\n",
    "            self.load_data()\n",
    "            self.transform_data()\n",
    "\n",
    "            # Save intermediate data for inspection\n",
    "            self.save_data(f'processed_{self.statement_type}.csv', self.df)\n",
    "\n",
    "            # Tag and save tagged data\n",
    "            self.tag_data()\n",
    "            self.save_data(f'tagged_{self.statement_type}.csv', self.df)\n",
    "\n",
    "        except Exception as e:\n",
    "            logger.error(f\"Error transforming {self.statement_type}: {e}\")\n",
    "\n",
    "# Child classes for specific financial statements\n",
    "class BalanceSheetTransformer(FinancialStatementTransformer):\n",
    "    def __init__(self):\n",
    "        super().__init__('balance_sheet')\n",
    "\n",
    "class IncomeStatementTransformer(FinancialStatementTransformer):\n",
    "    def __init__(self):\n",
    "        super().__init__('income_statement')\n",
    "\n",
    "class CashFlowTransformer(FinancialStatementTransformer):\n",
    "    def __init__(self):\n",
    "        super().__init__('cash_flow')\n",
    "\n",
    "if __name__ == \"__main__\":\n",
    "    # Entry points for testing transformations\n",
    "    logger.info(\"Starting transformations for selected statements...\")\n",
    "    for Transformer in [BalanceSheetTransformer, IncomeStatementTransformer, CashFlowTransformer]:\n",
    "        transformer = Transformer()\n",
    "        transformer.transform()\n",
    "\n",
    "\n",
    "# scripts/data_preprocessing/balance_sheet_transformation.py\n",
    "\n",
    "from scripts.data_preprocessing.financial_statement_transformer import FinancialStatementTransformer\n",
    "\n",
    "class BalanceSheetTransformer(FinancialStatementTransformer):\n",
    "    def __init__(self):\n",
    "        super().__init__(\"balance_sheet\")\n",
    "\n",
    "if __name__ == \"__main__\":\n",
    "    transformer = BalanceSheetTransformer()\n",
    "    transformer.transform()\n"
   ]
  },
  {
   "cell_type": "code",
   "execution_count": 8,
   "metadata": {},
   "outputs": [
    {
     "ename": "ImportError",
     "evalue": "cannot import name 'tag_line_item_indices' from 'scripts.utilities.data_transformation_utils' (C:\\Users\\jklei\\OneDrive - Convergix Automation\\Documents\\FinancialModeling_Project\\scripts\\utilities\\data_transformation_utils.py)",
     "output_type": "error",
     "traceback": [
      "\u001b[1;31m---------------------------------------------------------------------------\u001b[0m",
      "\u001b[1;31mImportError\u001b[0m                               Traceback (most recent call last)",
      "Cell \u001b[1;32mIn[8], line 1\u001b[0m\n\u001b[1;32m----> 1\u001b[0m \u001b[38;5;28;01mfrom\u001b[39;00m \u001b[38;5;21;01mscripts\u001b[39;00m\u001b[38;5;21;01m.\u001b[39;00m\u001b[38;5;21;01mdata_preprocessing\u001b[39;00m\u001b[38;5;21;01m.\u001b[39;00m\u001b[38;5;21;01mbalance_sheet_transformation\u001b[39;00m \u001b[38;5;28;01mimport\u001b[39;00m BalanceSheetTransformer\n\u001b[0;32m      3\u001b[0m \u001b[38;5;66;03m# Initialize the transformer\u001b[39;00m\n\u001b[0;32m      4\u001b[0m transformer \u001b[38;5;241m=\u001b[39m BalanceSheetTransformer()\n",
      "File \u001b[1;32m~\\OneDrive - Convergix Automation\\Documents\\FinancialModeling_Project\\scripts\\data_preprocessing\\balance_sheet_transformation.py:3\u001b[0m\n\u001b[0;32m      1\u001b[0m \u001b[38;5;66;03m# scripts/data_preprocessing/balance_sheet_transformation.py\u001b[39;00m\n\u001b[1;32m----> 3\u001b[0m \u001b[38;5;28;01mfrom\u001b[39;00m \u001b[38;5;21;01mscripts\u001b[39;00m\u001b[38;5;21;01m.\u001b[39;00m\u001b[38;5;21;01mdata_preprocessing\u001b[39;00m\u001b[38;5;21;01m.\u001b[39;00m\u001b[38;5;21;01mfinancial_statement_transformer\u001b[39;00m \u001b[38;5;28;01mimport\u001b[39;00m FinancialStatementTransformer\n\u001b[0;32m      5\u001b[0m \u001b[38;5;28;01mclass\u001b[39;00m \u001b[38;5;21;01mBalanceSheetTransformer\u001b[39;00m(FinancialStatementTransformer):\n\u001b[0;32m      6\u001b[0m     \u001b[38;5;28;01mdef\u001b[39;00m \u001b[38;5;21m__init__\u001b[39m(\u001b[38;5;28mself\u001b[39m):\n",
      "File \u001b[1;32m~\\OneDrive - Convergix Automation\\Documents\\FinancialModeling_Project\\scripts\\data_preprocessing\\financial_statement_transformer.py:3\u001b[0m\n\u001b[0;32m      1\u001b[0m \u001b[38;5;28;01mimport\u001b[39;00m \u001b[38;5;21;01mos\u001b[39;00m\n\u001b[0;32m      2\u001b[0m \u001b[38;5;28;01mimport\u001b[39;00m \u001b[38;5;21;01mpandas\u001b[39;00m \u001b[38;5;28;01mas\u001b[39;00m \u001b[38;5;21;01mpd\u001b[39;00m\n\u001b[1;32m----> 3\u001b[0m \u001b[38;5;28;01mfrom\u001b[39;00m \u001b[38;5;21;01mscripts\u001b[39;00m\u001b[38;5;21;01m.\u001b[39;00m\u001b[38;5;21;01mutilities\u001b[39;00m\u001b[38;5;21;01m.\u001b[39;00m\u001b[38;5;21;01mdata_transformation_utils\u001b[39;00m \u001b[38;5;28;01mimport\u001b[39;00m (\n\u001b[0;32m      4\u001b[0m     configure_logging,\n\u001b[0;32m      5\u001b[0m     get_data_paths,\n\u001b[0;32m      6\u001b[0m     tag_line_item_indices,\n\u001b[0;32m      7\u001b[0m     line_item_dict,\n\u001b[0;32m      8\u001b[0m )\n\u001b[0;32m     10\u001b[0m logger \u001b[38;5;241m=\u001b[39m configure_logging()\n\u001b[0;32m     12\u001b[0m \u001b[38;5;28;01mclass\u001b[39;00m \u001b[38;5;21;01mFinancialStatementTransformer\u001b[39;00m:\n",
      "\u001b[1;31mImportError\u001b[0m: cannot import name 'tag_line_item_indices' from 'scripts.utilities.data_transformation_utils' (C:\\Users\\jklei\\OneDrive - Convergix Automation\\Documents\\FinancialModeling_Project\\scripts\\utilities\\data_transformation_utils.py)"
     ]
    }
   ],
   "source": [
    "from scripts.data_preprocessing.balance_sheet_transformation import BalanceSheetTransformer\n",
    "\n",
    "# Initialize the transformer\n",
    "transformer = BalanceSheetTransformer()\n",
    "\n",
    "# Step 1: Load raw data\n",
    "df_raw = transformer.load_data()\n",
    "print(\"Raw Data:\")\n",
    "display(df_raw.head())\n",
    "\n",
    "# Step 2: Transform the data\n",
    "df_transformed = transformer.transform_data(df_raw)\n",
    "print(\"Transformed Data:\")\n",
    "display(df_transformed.head())\n",
    "\n",
    "# Step 3: Validate tagging\n",
    "df_tagged = transformer.tag_data(df_transformed)\n",
    "print(\"Tagged Data:\")\n",
    "display(df_tagged.head())\n"
   ]
  },
  {
   "cell_type": "code",
   "execution_count": 9,
   "metadata": {},
   "outputs": [
    {
     "ename": "ImportError",
     "evalue": "cannot import name 'tag_line_item_indices' from 'scripts.utilities.data_transformation_utils' (C:\\Users\\jklei\\OneDrive - Convergix Automation\\Documents\\FinancialModeling_Project\\scripts\\utilities\\data_transformation_utils.py)",
     "output_type": "error",
     "traceback": [
      "\u001b[1;31m---------------------------------------------------------------------------\u001b[0m",
      "\u001b[1;31mImportError\u001b[0m                               Traceback (most recent call last)",
      "Cell \u001b[1;32mIn[9], line 3\u001b[0m\n\u001b[0;32m      1\u001b[0m \u001b[38;5;66;03m# scripts/data_preprocessing/balance_sheet_transformation.py\u001b[39;00m\n\u001b[1;32m----> 3\u001b[0m \u001b[38;5;28;01mfrom\u001b[39;00m \u001b[38;5;21;01mscripts\u001b[39;00m\u001b[38;5;21;01m.\u001b[39;00m\u001b[38;5;21;01mdata_preprocessing\u001b[39;00m\u001b[38;5;21;01m.\u001b[39;00m\u001b[38;5;21;01mfinancial_statement_transformer\u001b[39;00m \u001b[38;5;28;01mimport\u001b[39;00m FinancialStatementTransformer\n\u001b[0;32m      5\u001b[0m \u001b[38;5;28;01mclass\u001b[39;00m \u001b[38;5;21;01mBalanceSheetTransformer\u001b[39;00m(FinancialStatementTransformer):\n\u001b[0;32m      6\u001b[0m     \u001b[38;5;28;01mdef\u001b[39;00m \u001b[38;5;21m__init__\u001b[39m(\u001b[38;5;28mself\u001b[39m):\n",
      "File \u001b[1;32m~\\OneDrive - Convergix Automation\\Documents\\FinancialModeling_Project\\scripts\\data_preprocessing\\financial_statement_transformer.py:3\u001b[0m\n\u001b[0;32m      1\u001b[0m \u001b[38;5;28;01mimport\u001b[39;00m \u001b[38;5;21;01mos\u001b[39;00m\n\u001b[0;32m      2\u001b[0m \u001b[38;5;28;01mimport\u001b[39;00m \u001b[38;5;21;01mpandas\u001b[39;00m \u001b[38;5;28;01mas\u001b[39;00m \u001b[38;5;21;01mpd\u001b[39;00m\n\u001b[1;32m----> 3\u001b[0m \u001b[38;5;28;01mfrom\u001b[39;00m \u001b[38;5;21;01mscripts\u001b[39;00m\u001b[38;5;21;01m.\u001b[39;00m\u001b[38;5;21;01mutilities\u001b[39;00m\u001b[38;5;21;01m.\u001b[39;00m\u001b[38;5;21;01mdata_transformation_utils\u001b[39;00m \u001b[38;5;28;01mimport\u001b[39;00m (\n\u001b[0;32m      4\u001b[0m     configure_logging,\n\u001b[0;32m      5\u001b[0m     get_data_paths,\n\u001b[0;32m      6\u001b[0m     tag_line_item_indices,\n\u001b[0;32m      7\u001b[0m     line_item_dict,\n\u001b[0;32m      8\u001b[0m )\n\u001b[0;32m     10\u001b[0m logger \u001b[38;5;241m=\u001b[39m configure_logging()\n\u001b[0;32m     12\u001b[0m \u001b[38;5;28;01mclass\u001b[39;00m \u001b[38;5;21;01mFinancialStatementTransformer\u001b[39;00m:\n",
      "\u001b[1;31mImportError\u001b[0m: cannot import name 'tag_line_item_indices' from 'scripts.utilities.data_transformation_utils' (C:\\Users\\jklei\\OneDrive - Convergix Automation\\Documents\\FinancialModeling_Project\\scripts\\utilities\\data_transformation_utils.py)"
     ]
    }
   ],
   "source": [
    "# scripts/data_preprocessing/balance_sheet_transformation.py\n",
    "\n",
    "from scripts.data_preprocessing.financial_statement_transformer import FinancialStatementTransformer\n",
    "\n",
    "class BalanceSheetTransformer(FinancialStatementTransformer):\n",
    "    def __init__(self):\n",
    "        super().__init__(\"balance_sheet\")\n",
    "\n",
    "if __name__ == \"__main__\":\n",
    "    transformer = BalanceSheetTransformer()\n",
    "    transformer.transform()\n"
   ]
  },
  {
   "cell_type": "code",
   "execution_count": 10,
   "metadata": {},
   "outputs": [
    {
     "ename": "ImportError",
     "evalue": "cannot import name 'tag_line_item_indices' from 'scripts.utilities.data_transformation_utils' (C:\\Users\\jklei\\OneDrive - Convergix Automation\\Documents\\FinancialModeling_Project\\scripts\\utilities\\data_transformation_utils.py)",
     "output_type": "error",
     "traceback": [
      "\u001b[1;31m---------------------------------------------------------------------------\u001b[0m",
      "\u001b[1;31mImportError\u001b[0m                               Traceback (most recent call last)",
      "Cell \u001b[1;32mIn[10], line 9\u001b[0m\n\u001b[0;32m      6\u001b[0m     sys\u001b[38;5;241m.\u001b[39mpath\u001b[38;5;241m.\u001b[39mappend(project_root)\n\u001b[0;32m      8\u001b[0m \u001b[38;5;66;03m# Import the BalanceSheetTransformer\u001b[39;00m\n\u001b[1;32m----> 9\u001b[0m \u001b[38;5;28;01mfrom\u001b[39;00m \u001b[38;5;21;01mscripts\u001b[39;00m\u001b[38;5;21;01m.\u001b[39;00m\u001b[38;5;21;01mdata_preprocessing\u001b[39;00m\u001b[38;5;21;01m.\u001b[39;00m\u001b[38;5;21;01mbalance_sheet_transformation\u001b[39;00m \u001b[38;5;28;01mimport\u001b[39;00m BalanceSheetTransformer\n\u001b[0;32m     11\u001b[0m \u001b[38;5;66;03m# Initialize the transformer\u001b[39;00m\n\u001b[0;32m     12\u001b[0m transformer \u001b[38;5;241m=\u001b[39m BalanceSheetTransformer()\n",
      "File \u001b[1;32m~\\OneDrive - Convergix Automation\\Documents\\FinancialModeling_Project\\scripts\\data_preprocessing\\balance_sheet_transformation.py:1\u001b[0m\n\u001b[1;32m----> 1\u001b[0m # scripts/data_preprocessing/balance_sheet_transformation.py\n\u001b[0;32m      3\u001b[0m from scripts.data_preprocessing.financial_statement_transformer import FinancialStatementTransformer\n\u001b[0;32m      5\u001b[0m class BalanceSheetTransformer(FinancialStatementTransformer):\n",
      "File \u001b[1;32m~\\OneDrive - Convergix Automation\\Documents\\FinancialModeling_Project\\scripts\\data_preprocessing\\financial_statement_transformer.py:3\u001b[0m\n\u001b[0;32m      1\u001b[0m \u001b[38;5;28;01mimport\u001b[39;00m \u001b[38;5;21;01mos\u001b[39;00m\n\u001b[0;32m      2\u001b[0m \u001b[38;5;28;01mimport\u001b[39;00m \u001b[38;5;21;01mpandas\u001b[39;00m \u001b[38;5;28;01mas\u001b[39;00m \u001b[38;5;21;01mpd\u001b[39;00m\n\u001b[1;32m----> 3\u001b[0m \u001b[38;5;28;01mfrom\u001b[39;00m \u001b[38;5;21;01mscripts\u001b[39;00m\u001b[38;5;21;01m.\u001b[39;00m\u001b[38;5;21;01mutilities\u001b[39;00m\u001b[38;5;21;01m.\u001b[39;00m\u001b[38;5;21;01mdata_transformation_utils\u001b[39;00m \u001b[38;5;28;01mimport\u001b[39;00m (\n\u001b[0;32m      4\u001b[0m     configure_logging,\n\u001b[0;32m      5\u001b[0m     get_data_paths,\n\u001b[0;32m      6\u001b[0m     tag_line_item_indices,\n\u001b[0;32m      7\u001b[0m     line_item_dict,\n\u001b[0;32m      8\u001b[0m )\n\u001b[0;32m     10\u001b[0m logger \u001b[38;5;241m=\u001b[39m configure_logging()\n\u001b[0;32m     12\u001b[0m \u001b[38;5;28;01mclass\u001b[39;00m \u001b[38;5;21;01mFinancialStatementTransformer\u001b[39;00m:\n",
      "\u001b[1;31mImportError\u001b[0m: cannot import name 'tag_line_item_indices' from 'scripts.utilities.data_transformation_utils' (C:\\Users\\jklei\\OneDrive - Convergix Automation\\Documents\\FinancialModeling_Project\\scripts\\utilities\\data_transformation_utils.py)"
     ]
    }
   ],
   "source": [
    "# Add the project root to sys.path if needed\n",
    "import os\n",
    "import sys\n",
    "project_root = os.path.abspath(\"..\")\n",
    "if project_root not in sys.path:\n",
    "    sys.path.append(project_root)\n",
    "\n",
    "# Import the BalanceSheetTransformer\n",
    "from scripts.data_preprocessing.balance_sheet_transformation import BalanceSheetTransformer\n",
    "\n",
    "# Initialize the transformer\n",
    "transformer = BalanceSheetTransformer()\n",
    "\n",
    "# Step 1: Load Data\n",
    "print(\"Step 1: Loading Data\")\n",
    "df = transformer.load_data()\n",
    "print(\"Raw Data:\")\n",
    "display(df.head())\n",
    "\n",
    "# Step 2: Transform Data\n",
    "print(\"Step 2: Transforming Data\")\n",
    "transformed_df = transformer.transform_data(df)\n",
    "print(\"Transformed Data:\")\n",
    "display(transformed_df.head())\n",
    "\n",
    "# Step 3: Tag Data\n",
    "print(\"Step 3: Tagging Data\")\n",
    "tagged_df = transformer.tag_data(transformed_df)\n",
    "print(\"Tagged Data:\")\n",
    "display(tagged_df.head())\n",
    "\n",
    "# Optional: Save Data (if desired during testing)\n",
    "# Uncomment the following lines if you want to save processed data during testing\n",
    "# transformer.save_data(transformed_df, transformer.processed_file)\n",
    "# transformer.save_data(tagged_df, transformer.tagged_file)\n"
   ]
  },
  {
   "cell_type": "code",
   "execution_count": 11,
   "metadata": {},
   "outputs": [
    {
     "ename": "ImportError",
     "evalue": "cannot import name 'tag_line_item_indices' from 'scripts.utilities.data_transformation_utils' (C:\\Users\\jklei\\OneDrive - Convergix Automation\\Documents\\FinancialModeling_Project\\scripts\\utilities\\data_transformation_utils.py)",
     "output_type": "error",
     "traceback": [
      "\u001b[1;31m---------------------------------------------------------------------------\u001b[0m",
      "\u001b[1;31mImportError\u001b[0m                               Traceback (most recent call last)",
      "Cell \u001b[1;32mIn[11], line 7\u001b[0m\n\u001b[0;32m      5\u001b[0m \u001b[38;5;28;01mif\u001b[39;00m project_root \u001b[38;5;129;01mnot\u001b[39;00m \u001b[38;5;129;01min\u001b[39;00m sys\u001b[38;5;241m.\u001b[39mpath:\n\u001b[0;32m      6\u001b[0m     sys\u001b[38;5;241m.\u001b[39mpath\u001b[38;5;241m.\u001b[39mappend(project_root)\n\u001b[1;32m----> 7\u001b[0m \u001b[38;5;28;01mfrom\u001b[39;00m \u001b[38;5;21;01mscripts\u001b[39;00m\u001b[38;5;21;01m.\u001b[39;00m\u001b[38;5;21;01mdata_preprocessing\u001b[39;00m\u001b[38;5;21;01m.\u001b[39;00m\u001b[38;5;21;01mbalance_sheet_transformation\u001b[39;00m \u001b[38;5;28;01mimport\u001b[39;00m BalanceSheetTransformer\n\u001b[0;32m      9\u001b[0m \u001b[38;5;66;03m# Initialize the transformer\u001b[39;00m\n\u001b[0;32m     10\u001b[0m transformer \u001b[38;5;241m=\u001b[39m BalanceSheetTransformer()\n",
      "File \u001b[1;32m~\\OneDrive - Convergix Automation\\Documents\\FinancialModeling_Project\\scripts\\data_preprocessing\\balance_sheet_transformation.py:1\u001b[0m\n\u001b[1;32m----> 1\u001b[0m # scripts/data_preprocessing/balance_sheet_transformation.py\n\u001b[0;32m      3\u001b[0m from scripts.data_preprocessing.financial_statement_transformer import FinancialStatementTransformer\n\u001b[0;32m      5\u001b[0m class BalanceSheetTransformer(FinancialStatementTransformer):\n",
      "File \u001b[1;32m~\\OneDrive - Convergix Automation\\Documents\\FinancialModeling_Project\\scripts\\data_preprocessing\\financial_statement_transformer.py:3\u001b[0m\n\u001b[0;32m      1\u001b[0m \u001b[38;5;28;01mimport\u001b[39;00m \u001b[38;5;21;01mos\u001b[39;00m\n\u001b[0;32m      2\u001b[0m \u001b[38;5;28;01mimport\u001b[39;00m \u001b[38;5;21;01mpandas\u001b[39;00m \u001b[38;5;28;01mas\u001b[39;00m \u001b[38;5;21;01mpd\u001b[39;00m\n\u001b[1;32m----> 3\u001b[0m \u001b[38;5;28;01mfrom\u001b[39;00m \u001b[38;5;21;01mscripts\u001b[39;00m\u001b[38;5;21;01m.\u001b[39;00m\u001b[38;5;21;01mutilities\u001b[39;00m\u001b[38;5;21;01m.\u001b[39;00m\u001b[38;5;21;01mdata_transformation_utils\u001b[39;00m \u001b[38;5;28;01mimport\u001b[39;00m (\n\u001b[0;32m      4\u001b[0m     configure_logging,\n\u001b[0;32m      5\u001b[0m     get_data_paths,\n\u001b[0;32m      6\u001b[0m     tag_line_item_indices,\n\u001b[0;32m      7\u001b[0m     line_item_dict,\n\u001b[0;32m      8\u001b[0m )\n\u001b[0;32m     10\u001b[0m logger \u001b[38;5;241m=\u001b[39m configure_logging()\n\u001b[0;32m     12\u001b[0m \u001b[38;5;28;01mclass\u001b[39;00m \u001b[38;5;21;01mFinancialStatementTransformer\u001b[39;00m:\n",
      "\u001b[1;31mImportError\u001b[0m: cannot import name 'tag_line_item_indices' from 'scripts.utilities.data_transformation_utils' (C:\\Users\\jklei\\OneDrive - Convergix Automation\\Documents\\FinancialModeling_Project\\scripts\\utilities\\data_transformation_utils.py)"
     ]
    }
   ],
   "source": [
    "import sys\n",
    "import os\n",
    "\n",
    "project_root = os.path.abspath(\"..\")  # Adjust if needed\n",
    "if project_root not in sys.path:\n",
    "    sys.path.append(project_root)\n",
    "from scripts.data_preprocessing.balance_sheet_transformation import BalanceSheetTransformer\n",
    "\n",
    "# Initialize the transformer\n",
    "transformer = BalanceSheetTransformer()\n",
    "\n",
    "# Run the transformation process\n",
    "transformer.transform()\n"
   ]
  },
  {
   "cell_type": "code",
   "execution_count": 12,
   "metadata": {},
   "outputs": [
    {
     "ename": "ImportError",
     "evalue": "cannot import name 'tag_line_item_indices' from 'scripts.utilities.data_transformation_utils' (C:\\Users\\jklei\\OneDrive - Convergix Automation\\Documents\\FinancialModeling_Project\\scripts\\utilities\\data_transformation_utils.py)",
     "output_type": "error",
     "traceback": [
      "\u001b[1;31m---------------------------------------------------------------------------\u001b[0m",
      "\u001b[1;31mImportError\u001b[0m                               Traceback (most recent call last)",
      "Cell \u001b[1;32mIn[12], line 2\u001b[0m\n\u001b[0;32m      1\u001b[0m \u001b[38;5;28;01mimport\u001b[39;00m \u001b[38;5;21;01mpandas\u001b[39;00m \u001b[38;5;28;01mas\u001b[39;00m \u001b[38;5;21;01mpd\u001b[39;00m\n\u001b[1;32m----> 2\u001b[0m \u001b[38;5;28;01mfrom\u001b[39;00m \u001b[38;5;21;01mscripts\u001b[39;00m\u001b[38;5;21;01m.\u001b[39;00m\u001b[38;5;21;01mutilities\u001b[39;00m\u001b[38;5;21;01m.\u001b[39;00m\u001b[38;5;21;01mdata_transformation_utils\u001b[39;00m \u001b[38;5;28;01mimport\u001b[39;00m tag_line_item_indices, line_item_dict\n\u001b[0;32m      4\u001b[0m \u001b[38;5;66;03m# Sample DataFrame\u001b[39;00m\n\u001b[0;32m      5\u001b[0m data \u001b[38;5;241m=\u001b[39m {\u001b[38;5;124m\"\u001b[39m\u001b[38;5;124mCategory\u001b[39m\u001b[38;5;124m\"\u001b[39m: [\u001b[38;5;124m\"\u001b[39m\u001b[38;5;124mRevenue\u001b[39m\u001b[38;5;124m\"\u001b[39m, \u001b[38;5;124m\"\u001b[39m\u001b[38;5;124mOperating Expenses\u001b[39m\u001b[38;5;124m\"\u001b[39m, \u001b[38;5;124m\"\u001b[39m\u001b[38;5;124mNet Profit\u001b[39m\u001b[38;5;124m\"\u001b[39m]}\n",
      "\u001b[1;31mImportError\u001b[0m: cannot import name 'tag_line_item_indices' from 'scripts.utilities.data_transformation_utils' (C:\\Users\\jklei\\OneDrive - Convergix Automation\\Documents\\FinancialModeling_Project\\scripts\\utilities\\data_transformation_utils.py)"
     ]
    }
   ],
   "source": [
    "import pandas as pd\n",
    "from scripts.utilities.data_transformation_utils import tag_line_item_indices, line_item_dict\n",
    "\n",
    "# Sample DataFrame\n",
    "data = {\"Category\": [\"Revenue\", \"Operating Expenses\", \"Net Profit\"]}\n",
    "df = pd.DataFrame(data)\n",
    "\n",
    "# Apply the tagging function\n",
    "tagged_df = tag_line_item_indices(df, line_item_dict)\n",
    "print(tagged_df)\n"
   ]
  },
  {
   "cell_type": "code",
   "execution_count": 13,
   "metadata": {},
   "outputs": [
    {
     "ename": "ImportError",
     "evalue": "cannot import name 'tag_line_item_indices' from 'scripts.utilities.data_transformation_utils' (C:\\Users\\jklei\\OneDrive - Convergix Automation\\Documents\\FinancialModeling_Project\\scripts\\utilities\\data_transformation_utils.py)",
     "output_type": "error",
     "traceback": [
      "\u001b[1;31m---------------------------------------------------------------------------\u001b[0m",
      "\u001b[1;31mImportError\u001b[0m                               Traceback (most recent call last)",
      "Cell \u001b[1;32mIn[13], line 11\u001b[0m\n\u001b[0;32m      8\u001b[0m     sys\u001b[38;5;241m.\u001b[39mpath\u001b[38;5;241m.\u001b[39mappend(project_root)\n\u001b[0;32m     10\u001b[0m \u001b[38;5;66;03m# Import the utilities module\u001b[39;00m\n\u001b[1;32m---> 11\u001b[0m \u001b[38;5;28;01mfrom\u001b[39;00m \u001b[38;5;21;01mscripts\u001b[39;00m\u001b[38;5;21;01m.\u001b[39;00m\u001b[38;5;21;01mutilities\u001b[39;00m\u001b[38;5;21;01m.\u001b[39;00m\u001b[38;5;21;01mdata_transformation_utils\u001b[39;00m \u001b[38;5;28;01mimport\u001b[39;00m (\n\u001b[0;32m     12\u001b[0m     tag_line_item_indices,\n\u001b[0;32m     13\u001b[0m     line_item_dict,\n\u001b[0;32m     14\u001b[0m     configure_logging\n\u001b[0;32m     15\u001b[0m )\n\u001b[0;32m     17\u001b[0m \u001b[38;5;28;01mimport\u001b[39;00m \u001b[38;5;21;01mpandas\u001b[39;00m \u001b[38;5;28;01mas\u001b[39;00m \u001b[38;5;21;01mpd\u001b[39;00m\n\u001b[0;32m     19\u001b[0m \u001b[38;5;66;03m# Configure logging for Jupyter notebook\u001b[39;00m\n",
      "\u001b[1;31mImportError\u001b[0m: cannot import name 'tag_line_item_indices' from 'scripts.utilities.data_transformation_utils' (C:\\Users\\jklei\\OneDrive - Convergix Automation\\Documents\\FinancialModeling_Project\\scripts\\utilities\\data_transformation_utils.py)"
     ]
    }
   ],
   "source": [
    "# Jupyter Notebook: Test Data Transformation Utilities\n",
    "\n",
    "# Ensure the project directory is accessible\n",
    "import os\n",
    "import sys\n",
    "project_root = os.path.abspath(\"..\")  # Adjust path as needed\n",
    "if project_root not in sys.path:\n",
    "    sys.path.append(project_root)\n",
    "\n",
    "# Import the utilities module\n",
    "from scripts.utilities.data_transformation_utils import (\n",
    "    tag_line_item_indices,\n",
    "    line_item_dict,\n",
    "    configure_logging\n",
    ")\n",
    "\n",
    "import pandas as pd\n",
    "\n",
    "# Configure logging for Jupyter notebook\n",
    "logger = configure_logging()\n",
    "\n",
    "# Sample DataFrame for Testing\n",
    "data = {\n",
    "    \"Category\": [\"Revenue\", \"Operating Expenses\", \"Unknown Item\"],\n",
    "    \"2022\": [1000, 200, 50],\n",
    "    \"2023\": [1100, 250, 60]\n",
    "}\n",
    "\n",
    "df = pd.DataFrame(data)\n",
    "print(\"Original DataFrame:\")\n",
    "display(df)\n",
    "\n",
    "# Apply the tagging function\n",
    "try:\n",
    "    tagged_df = tag_line_item_indices(df, line_item_dict)\n",
    "    print(\"Tagged DataFrame:\")\n",
    "    display(tagged_df)\n",
    "except KeyError as e:\n",
    "    logger.error(f\"Error during tagging: {e}\")\n",
    "\n",
    "# Archiving Example\n",
    "source_dir = os.path.join(project_root, \"data\", \"raw\")\n",
    "archive_dir = os.path.join(project_root, \"data\", \"archive\")\n",
    "print(\"Archiving files...\")\n",
    "try:\n",
    "    # Ensure directories exist for testing\n",
    "    os.makedirs(source_dir, exist_ok=True)\n",
    "    os.makedirs(archive_dir, exist_ok=True)\n",
    "\n",
    "    # Run the archive function\n",
    "    archive_files(source_dir, archive_dir)\n",
    "    print(f\"Files archived from {source_dir} to {archive_dir}\")\n",
    "except Exception as e:\n",
    "    logger.error(f\"Error during archiving: {e}\")\n"
   ]
  }
 ],
 "metadata": {
  "kernelspec": {
   "display_name": "financial_modeling",
   "language": "python",
   "name": "python3"
  },
  "language_info": {
   "codemirror_mode": {
    "name": "ipython",
    "version": 3
   },
   "file_extension": ".py",
   "mimetype": "text/x-python",
   "name": "python",
   "nbconvert_exporter": "python",
   "pygments_lexer": "ipython3",
   "version": "3.11.10"
  }
 },
 "nbformat": 4,
 "nbformat_minor": 2
}
